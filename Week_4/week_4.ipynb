{
 "cells": [
  {
   "cell_type": "markdown",
   "metadata": {},
   "source": [
    "# Week 4 "
   ]
  },
  {
   "cell_type": "markdown",
   "metadata": {},
   "source": [
    "### Dopants"
   ]
  },
  {
   "cell_type": "markdown",
   "metadata": {},
   "source": [
    "A dopant is a foreign atom that enters the lattice. This can be aciednetal, e.g. Nuclear fuel contains large concentrations of Fe cations due to the fuel pellets being heated on steel equitment, or it can be by design, e.g. Gadalidium doped ceria is a fuel cell material where Gd cations are added to improve the materials conductivity. "
   ]
  },
  {
   "cell_type": "markdown",
   "metadata": {},
   "source": [
    "<center>\n",
    "    <br>\n",
    "    <img src=\"./figures/Dopant.png\\\" width=\\\"400px\\\">\n",
    "    <i>Figure 1. A pictorial example of doped NaCl.</i>\n",
    "    <br>\n",
    "</center>"
   ]
  },
  {
   "cell_type": "markdown",
   "metadata": {},
   "source": [
    "Your task is to investigate how dopants affect the properties of Ca$F_2$. There are many things that you can consider;\n",
    "- The charge of the dopant\n",
    "- The mass / size of the dopant\n",
    "- The concentration of the dopant\n",
    "\n",
    "The defect module will help with adding the dopants. Due to the rapid diffusion of anions compared to cations it is pointless to consider anion impurities. Instead it is best to consider cation impurities on Ca sites. "
   ]
  },
  {
   "cell_type": "code",
   "execution_count": 1,
   "metadata": {},
   "outputs": [],
   "source": [
    "import numpy as np\n",
    "import subprocess\n",
    "import os\n",
    "import defect"
   ]
  },
  {
   "cell_type": "code",
   "execution_count": 2,
   "metadata": {},
   "outputs": [],
   "source": [
    "# Read the METADISE input file\n",
    "data = defect.read(\"Input/input.txt\")\n",
    "\n",
    "# Add a 10 % concentration of 3+ charged La\n",
    "new_data = defect.dopant(data, \"La\", 3.0, 10)\n",
    "\n",
    "# Write a METADISE file to folder La_10\n",
    "defect.write_output(new_data, \"La_10\", \"La\")"
   ]
  },
  {
   "cell_type": "code",
   "execution_count": 3,
   "metadata": {},
   "outputs": [],
   "source": [
    "subprocess.call('H:/Third_year_lab/Advanced_Practical_Chemistry_Teaching-master/progs/metadise.exe', cwd='H:/Third_year_lab/Advanced_Practical_Chemistry_Teaching-master/course/week_4/La_10/')\n",
    "os.rename('La_10/control_o0001.dlp', 'La_10/CONTROL')\n",
    "os.rename('La_10/config__o0001.dlp', 'La_10/CONFIG')\n",
    "os.rename('La_10/field___o0001.dlp', 'La_10/FIELD')"
   ]
  },
  {
   "cell_type": "code",
   "execution_count": 4,
   "metadata": {},
   "outputs": [],
   "source": [
    "# Read the METADISE input file\n",
    "data = defect.read(\"Input/input.txt\")\n",
    "\n",
    "# Add a 10 % concentration of 1+ charged K\n",
    "new_data = defect.dopant(data, \"K\", 1.0, 10)\n",
    "\n",
    "# Write a METADISE file to folder K_10\n",
    "defect.write_output(new_data, \"K_10\", \"K\")"
   ]
  },
  {
   "cell_type": "code",
   "execution_count": 5,
   "metadata": {},
   "outputs": [],
   "source": [
    "subprocess.call('H:/Third_year_lab/Advanced_Practical_Chemistry_Teaching-master/progs/metadise.exe', cwd='H:/Third_year_lab/Advanced_Practical_Chemistry_Teaching-master/course/week_4/K_10/')\n",
    "os.rename('K_10/control_o0001.dlp', 'K_10/CONTROL')\n",
    "os.rename('K_10/config__o0001.dlp', 'K_10/CONFIG')\n",
    "os.rename('K_10/field___o0001.dlp', 'K_10/FIELD')"
   ]
  },
  {
   "cell_type": "code",
   "execution_count": 6,
   "metadata": {},
   "outputs": [],
   "source": [
    "# Read the METADISE input file\n",
    "data = defect.read(\"Input/input.txt\")\n",
    "\n",
    "# Add a 10 % concentration of 2+ charged Sr\n",
    "new_data = defect.dopant(data, \"Sr\", 2.0, 10)\n",
    "\n",
    "# Write a METADISE file to folder Sr_10\n",
    "defect.write_output(new_data, \"Sr_10\", \"Sr\")"
   ]
  },
  {
   "cell_type": "code",
   "execution_count": 7,
   "metadata": {},
   "outputs": [],
   "source": [
    "subprocess.call('H:/Third_year_lab/Advanced_Practical_Chemistry_Teaching-master/progs/metadise.exe', cwd='H:/Third_year_lab/Advanced_Practical_Chemistry_Teaching-master/course/week_4/Sr_10/')\n",
    "os.rename('Sr_10/control_o0001.dlp', 'Sr_10/CONTROL')\n",
    "os.rename('Sr_10/config__o0001.dlp', 'Sr_10/CONFIG')\n",
    "os.rename('Sr_10/field___o0001.dlp', 'Sr_10/FIELD')"
   ]
  },
  {
   "cell_type": "markdown",
   "metadata": {},
   "source": [
    "As with week 3 you are completely free to do what you want. In your groups come up with some interesting questions to answer and then design simulations to answer them. Good luck."
   ]
  }
 ],
 "metadata": {
  "kernelspec": {
   "display_name": "Python 3",
   "language": "python",
   "name": "python3"
  },
  "language_info": {
   "codemirror_mode": {
    "name": "ipython",
    "version": 3
   },
   "file_extension": ".py",
   "mimetype": "text/x-python",
   "name": "python",
   "nbconvert_exporter": "python",
   "pygments_lexer": "ipython3",
   "version": "3.6.5"
  }
 },
 "nbformat": 4,
 "nbformat_minor": 2
}
